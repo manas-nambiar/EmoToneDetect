{
  "nbformat": 4,
  "nbformat_minor": 0,
  "metadata": {
    "colab": {
      "provenance": [],
      "authorship_tag": "ABX9TyPVPFkfkxOLQDMuDD2aEoeE",
      "include_colab_link": true
    },
    "kernelspec": {
      "name": "python3",
      "display_name": "Python 3"
    },
    "language_info": {
      "name": "python"
    }
  },
  "cells": [
    {
      "cell_type": "markdown",
      "metadata": {
        "id": "view-in-github",
        "colab_type": "text"
      },
      "source": [
        "<a href=\"https://colab.research.google.com/github/manas-nambiar/EmoToneDetect/blob/main/EmoToneDetect.ipynb\" target=\"_parent\"><img src=\"https://colab.research.google.com/assets/colab-badge.svg\" alt=\"Open In Colab\"/></a>"
      ]
    },
    {
      "cell_type": "markdown",
      "source": [
        "This is the description for the Ryerson Audio-Visual Database of Emotional\n",
        "Speech and Song (RAVDESS) as stated on\n",
        "https://zenodo.org/record/1188976#.ZGrz4ezMJhE:\n",
        "\n",
        "About Dataset\n",
        "Ryerson Audio-Visual Database of Emotional Speech and Song (RAVDESS)\n",
        "Song audio-only files (16bit, 48kHz .wav) from the RAVDESS. Full dataset of\n",
        "speech and song, audio and video (24.8 GB) available from Zenodo. Construction\n",
        "and perceptual validation of the RAVDESS is described in our Open Access paper\n",
        "in PLoS ONE.\n",
        "\n",
        "Check out our Kaggle Speech emotion dataset.\n",
        "\n",
        "Files\n",
        "\n",
        "This portion of the RAVDESS contains 1012 files: 44 trials per actor x 23\n",
        "actors = 1012. The RAVDESS contains 24 professional actors (12 female, 12 male),\n",
        "vocalizing two lexically-matched statements in a neutral North American accent.\n",
        "Song emotions includes calm, happy, sad, angry, and fearful expressions. Each expression is produced at two levels of emotional intensity (normal, strong), with an additional neutral expression.\n",
        "\n",
        "File naming convention\n",
        "\n",
        "Each of the 1012 files has a unique filename. The filename consists of a 7-part numerical identifier (e.g., 03-02-06-01-02-01-12.wav). These identifiers define the stimulus characteristics:\n",
        "\n",
        "Filename identifiers\n",
        "\n",
        "Modality (01 = full-AV, 02 = video-only, 03 = audio-only).\n",
        "\n",
        "Vocal channel (01 = speech, 02 = song).\n",
        "\n",
        "Emotion (01 = neutral, 02 = calm, 03 = happy, 04 = sad, 05 = angry, 06 = fearful, 07 = disgust, 08 = surprised).\n",
        "\n",
        "Emotional intensity (01 = normal, 02 = strong). NOTE: There is no strong intensity for the 'neutral' emotion.\n",
        "\n",
        "Statement (01 = \"Kids are talking by the door\", 02 = \"Dogs are sitting by the door\").\n",
        "\n",
        "Repetition (01 = 1st repetition, 02 = 2nd repetition).\n",
        "\n",
        "Actor (01 to 24. Odd numbered actors are male, even numbered actors are female).\n",
        "\n",
        "Filename example: 03-02-06-01-02-01-12.wav\n",
        "\n",
        "Audio-only (03)\n",
        "Song (02)\n",
        "Fearful (06)\n",
        "Normal intensity (01)\n",
        "Statement \"dogs\" (02)\n",
        "1st Repetition (01)\n",
        "12th Actor (12)\n",
        "Female, as the actor ID number is even."
      ],
      "metadata": {
        "id": "J_RxaVpoiWUh"
      }
    },
    {
      "cell_type": "markdown",
      "source": [
        "# Mounting the drive in order to access our files"
      ],
      "metadata": {
        "id": "xK3UH9vtkDYq"
      }
    },
    {
      "cell_type": "code",
      "execution_count": null,
      "metadata": {
        "id": "hssCrKOvgf31"
      },
      "outputs": [],
      "source": [
        "from google.colab import drive\n",
        "drive.mount(\"/content/drive\")"
      ]
    },
    {
      "cell_type": "markdown",
      "source": [
        "# Installing all the libraries required for this project"
      ],
      "metadata": {
        "id": "wg13hSOqj60w"
      }
    },
    {
      "cell_type": "code",
      "source": [
        "!pip install librosa\n",
        "!pip install numpy\n",
        "!pip install pandas\n",
        "!pip install sklearn\n",
        "!pip install matplotlib\n",
        "!pip install seaborn\n",
        "!pip install scikit-optimize\n",
        "!pip install skopt"
      ],
      "metadata": {
        "colab": {
          "base_uri": "https://localhost:8080/"
        },
        "id": "5EJfN2i-jh0w",
        "outputId": "154b2b13-4cdf-4140-86c3-11f251bf397d"
      },
      "execution_count": null,
      "outputs": [
        {
          "output_type": "stream",
          "name": "stdout",
          "text": [
            "Looking in indexes: https://pypi.org/simple, https://us-python.pkg.dev/colab-wheels/public/simple/\n",
            "Requirement already satisfied: librosa in /usr/local/lib/python3.10/dist-packages (0.10.0.post2)\n",
            "Requirement already satisfied: audioread>=2.1.9 in /usr/local/lib/python3.10/dist-packages (from librosa) (3.0.0)\n",
            "Requirement already satisfied: numpy!=1.22.0,!=1.22.1,!=1.22.2,>=1.20.3 in /usr/local/lib/python3.10/dist-packages (from librosa) (1.22.4)\n",
            "Requirement already satisfied: scipy>=1.2.0 in /usr/local/lib/python3.10/dist-packages (from librosa) (1.10.1)\n",
            "Requirement already satisfied: scikit-learn>=0.20.0 in /usr/local/lib/python3.10/dist-packages (from librosa) (1.2.2)\n",
            "Requirement already satisfied: joblib>=0.14 in /usr/local/lib/python3.10/dist-packages (from librosa) (1.2.0)\n",
            "Requirement already satisfied: decorator>=4.3.0 in /usr/local/lib/python3.10/dist-packages (from librosa) (4.4.2)\n",
            "Requirement already satisfied: numba>=0.51.0 in /usr/local/lib/python3.10/dist-packages (from librosa) (0.56.4)\n",
            "Requirement already satisfied: soundfile>=0.12.1 in /usr/local/lib/python3.10/dist-packages (from librosa) (0.12.1)\n",
            "Requirement already satisfied: pooch<1.7,>=1.0 in /usr/local/lib/python3.10/dist-packages (from librosa) (1.6.0)\n",
            "Requirement already satisfied: soxr>=0.3.2 in /usr/local/lib/python3.10/dist-packages (from librosa) (0.3.5)\n",
            "Requirement already satisfied: typing-extensions>=4.1.1 in /usr/local/lib/python3.10/dist-packages (from librosa) (4.5.0)\n",
            "Requirement already satisfied: lazy-loader>=0.1 in /usr/local/lib/python3.10/dist-packages (from librosa) (0.2)\n",
            "Requirement already satisfied: msgpack>=1.0 in /usr/local/lib/python3.10/dist-packages (from librosa) (1.0.5)\n",
            "Requirement already satisfied: llvmlite<0.40,>=0.39.0dev0 in /usr/local/lib/python3.10/dist-packages (from numba>=0.51.0->librosa) (0.39.1)\n",
            "Requirement already satisfied: setuptools in /usr/local/lib/python3.10/dist-packages (from numba>=0.51.0->librosa) (67.7.2)\n",
            "Requirement already satisfied: appdirs>=1.3.0 in /usr/local/lib/python3.10/dist-packages (from pooch<1.7,>=1.0->librosa) (1.4.4)\n",
            "Requirement already satisfied: packaging>=20.0 in /usr/local/lib/python3.10/dist-packages (from pooch<1.7,>=1.0->librosa) (23.1)\n",
            "Requirement already satisfied: requests>=2.19.0 in /usr/local/lib/python3.10/dist-packages (from pooch<1.7,>=1.0->librosa) (2.27.1)\n",
            "Requirement already satisfied: threadpoolctl>=2.0.0 in /usr/local/lib/python3.10/dist-packages (from scikit-learn>=0.20.0->librosa) (3.1.0)\n",
            "Requirement already satisfied: cffi>=1.0 in /usr/local/lib/python3.10/dist-packages (from soundfile>=0.12.1->librosa) (1.15.1)\n",
            "Requirement already satisfied: pycparser in /usr/local/lib/python3.10/dist-packages (from cffi>=1.0->soundfile>=0.12.1->librosa) (2.21)\n",
            "Requirement already satisfied: urllib3<1.27,>=1.21.1 in /usr/local/lib/python3.10/dist-packages (from requests>=2.19.0->pooch<1.7,>=1.0->librosa) (1.26.15)\n",
            "Requirement already satisfied: certifi>=2017.4.17 in /usr/local/lib/python3.10/dist-packages (from requests>=2.19.0->pooch<1.7,>=1.0->librosa) (2022.12.7)\n",
            "Requirement already satisfied: charset-normalizer~=2.0.0 in /usr/local/lib/python3.10/dist-packages (from requests>=2.19.0->pooch<1.7,>=1.0->librosa) (2.0.12)\n",
            "Requirement already satisfied: idna<4,>=2.5 in /usr/local/lib/python3.10/dist-packages (from requests>=2.19.0->pooch<1.7,>=1.0->librosa) (3.4)\n",
            "Looking in indexes: https://pypi.org/simple, https://us-python.pkg.dev/colab-wheels/public/simple/\n",
            "Requirement already satisfied: numpy in /usr/local/lib/python3.10/dist-packages (1.22.4)\n",
            "Looking in indexes: https://pypi.org/simple, https://us-python.pkg.dev/colab-wheels/public/simple/\n",
            "Requirement already satisfied: pandas in /usr/local/lib/python3.10/dist-packages (1.5.3)\n",
            "Requirement already satisfied: python-dateutil>=2.8.1 in /usr/local/lib/python3.10/dist-packages (from pandas) (2.8.2)\n",
            "Requirement already satisfied: pytz>=2020.1 in /usr/local/lib/python3.10/dist-packages (from pandas) (2022.7.1)\n",
            "Requirement already satisfied: numpy>=1.21.0 in /usr/local/lib/python3.10/dist-packages (from pandas) (1.22.4)\n",
            "Requirement already satisfied: six>=1.5 in /usr/local/lib/python3.10/dist-packages (from python-dateutil>=2.8.1->pandas) (1.16.0)\n",
            "Looking in indexes: https://pypi.org/simple, https://us-python.pkg.dev/colab-wheels/public/simple/\n",
            "Requirement already satisfied: sklearn in /usr/local/lib/python3.10/dist-packages (0.0.post5)\n",
            "Looking in indexes: https://pypi.org/simple, https://us-python.pkg.dev/colab-wheels/public/simple/\n",
            "Requirement already satisfied: matplotlib in /usr/local/lib/python3.10/dist-packages (3.7.1)\n",
            "Requirement already satisfied: contourpy>=1.0.1 in /usr/local/lib/python3.10/dist-packages (from matplotlib) (1.0.7)\n",
            "Requirement already satisfied: cycler>=0.10 in /usr/local/lib/python3.10/dist-packages (from matplotlib) (0.11.0)\n",
            "Requirement already satisfied: fonttools>=4.22.0 in /usr/local/lib/python3.10/dist-packages (from matplotlib) (4.39.3)\n",
            "Requirement already satisfied: kiwisolver>=1.0.1 in /usr/local/lib/python3.10/dist-packages (from matplotlib) (1.4.4)\n",
            "Requirement already satisfied: numpy>=1.20 in /usr/local/lib/python3.10/dist-packages (from matplotlib) (1.22.4)\n",
            "Requirement already satisfied: packaging>=20.0 in /usr/local/lib/python3.10/dist-packages (from matplotlib) (23.1)\n",
            "Requirement already satisfied: pillow>=6.2.0 in /usr/local/lib/python3.10/dist-packages (from matplotlib) (8.4.0)\n",
            "Requirement already satisfied: pyparsing>=2.3.1 in /usr/local/lib/python3.10/dist-packages (from matplotlib) (3.0.9)\n",
            "Requirement already satisfied: python-dateutil>=2.7 in /usr/local/lib/python3.10/dist-packages (from matplotlib) (2.8.2)\n",
            "Requirement already satisfied: six>=1.5 in /usr/local/lib/python3.10/dist-packages (from python-dateutil>=2.7->matplotlib) (1.16.0)\n",
            "Looking in indexes: https://pypi.org/simple, https://us-python.pkg.dev/colab-wheels/public/simple/\n",
            "Requirement already satisfied: seaborn in /usr/local/lib/python3.10/dist-packages (0.12.2)\n",
            "Requirement already satisfied: numpy!=1.24.0,>=1.17 in /usr/local/lib/python3.10/dist-packages (from seaborn) (1.22.4)\n",
            "Requirement already satisfied: pandas>=0.25 in /usr/local/lib/python3.10/dist-packages (from seaborn) (1.5.3)\n",
            "Requirement already satisfied: matplotlib!=3.6.1,>=3.1 in /usr/local/lib/python3.10/dist-packages (from seaborn) (3.7.1)\n",
            "Requirement already satisfied: contourpy>=1.0.1 in /usr/local/lib/python3.10/dist-packages (from matplotlib!=3.6.1,>=3.1->seaborn) (1.0.7)\n",
            "Requirement already satisfied: cycler>=0.10 in /usr/local/lib/python3.10/dist-packages (from matplotlib!=3.6.1,>=3.1->seaborn) (0.11.0)\n",
            "Requirement already satisfied: fonttools>=4.22.0 in /usr/local/lib/python3.10/dist-packages (from matplotlib!=3.6.1,>=3.1->seaborn) (4.39.3)\n",
            "Requirement already satisfied: kiwisolver>=1.0.1 in /usr/local/lib/python3.10/dist-packages (from matplotlib!=3.6.1,>=3.1->seaborn) (1.4.4)\n",
            "Requirement already satisfied: packaging>=20.0 in /usr/local/lib/python3.10/dist-packages (from matplotlib!=3.6.1,>=3.1->seaborn) (23.1)\n",
            "Requirement already satisfied: pillow>=6.2.0 in /usr/local/lib/python3.10/dist-packages (from matplotlib!=3.6.1,>=3.1->seaborn) (8.4.0)\n",
            "Requirement already satisfied: pyparsing>=2.3.1 in /usr/local/lib/python3.10/dist-packages (from matplotlib!=3.6.1,>=3.1->seaborn) (3.0.9)\n",
            "Requirement already satisfied: python-dateutil>=2.7 in /usr/local/lib/python3.10/dist-packages (from matplotlib!=3.6.1,>=3.1->seaborn) (2.8.2)\n",
            "Requirement already satisfied: pytz>=2020.1 in /usr/local/lib/python3.10/dist-packages (from pandas>=0.25->seaborn) (2022.7.1)\n",
            "Requirement already satisfied: six>=1.5 in /usr/local/lib/python3.10/dist-packages (from python-dateutil>=2.7->matplotlib!=3.6.1,>=3.1->seaborn) (1.16.0)\n",
            "Looking in indexes: https://pypi.org/simple, https://us-python.pkg.dev/colab-wheels/public/simple/\n",
            "Requirement already satisfied: scikit-optimize in /usr/local/lib/python3.10/dist-packages (0.9.0)\n",
            "Requirement already satisfied: joblib>=0.11 in /usr/local/lib/python3.10/dist-packages (from scikit-optimize) (1.2.0)\n",
            "Requirement already satisfied: pyaml>=16.9 in /usr/local/lib/python3.10/dist-packages (from scikit-optimize) (23.5.9)\n",
            "Requirement already satisfied: numpy>=1.13.3 in /usr/local/lib/python3.10/dist-packages (from scikit-optimize) (1.22.4)\n",
            "Requirement already satisfied: scipy>=0.19.1 in /usr/local/lib/python3.10/dist-packages (from scikit-optimize) (1.10.1)\n",
            "Requirement already satisfied: scikit-learn>=0.20.0 in /usr/local/lib/python3.10/dist-packages (from scikit-optimize) (1.2.2)\n",
            "Requirement already satisfied: PyYAML in /usr/local/lib/python3.10/dist-packages (from pyaml>=16.9->scikit-optimize) (6.0)\n",
            "Requirement already satisfied: threadpoolctl>=2.0.0 in /usr/local/lib/python3.10/dist-packages (from scikit-learn>=0.20.0->scikit-optimize) (3.1.0)\n",
            "Looking in indexes: https://pypi.org/simple, https://us-python.pkg.dev/colab-wheels/public/simple/\n",
            "\u001b[31mERROR: Could not find a version that satisfies the requirement skopt (from versions: none)\u001b[0m\u001b[31m\n",
            "\u001b[0m\u001b[31mERROR: No matching distribution found for skopt\u001b[0m\u001b[31m\n",
            "\u001b[0m"
          ]
        }
      ]
    },
    {
      "cell_type": "markdown",
      "source": [
        "# Import all the libraries required for this project"
      ],
      "metadata": {
        "id": "4THMKxoSkkrX"
      }
    },
    {
      "cell_type": "code",
      "source": [
        "import librosa\n",
        "import numpy as np\n",
        "import pandas as pd\n",
        "import librosa.feature\n",
        "import librosa.display\n",
        "import matplotlib.pyplot as plt\n",
        "import seaborn as sns\n",
        "import glob\n",
        "import os\n",
        "import time\n",
        "from sklearn.model_selection import train_test_split, GridSearchCV\n",
        "from sklearn.preprocessing import StandardScaler, LabelEncoder\n",
        "from sklearn.svm import SVC\n",
        "from sklearn.metrics import accuracy_score, confusion_matrix, classification_report\n",
        "from sklearn.ensemble import RandomForestClassifier\n",
        "from skopt import BayesSearchCV\n",
        "from sklearn.svm import SVC\n",
        "%matplotlib inline"
      ],
      "metadata": {
        "id": "ZsSTRULVkjtc"
      },
      "execution_count": null,
      "outputs": []
    },
    {
      "cell_type": "markdown",
      "source": [
        "# Load a sample file and display it as a waveplot"
      ],
      "metadata": {
        "id": "A9DFl5N7oVGA"
      }
    },
    {
      "cell_type": "code",
      "source": [
        "data, sampling_rate = librosa.load('/content/drive/My Drive/RAVDESS/03-01-01-01-01-01-01.wav')\n",
        "plt.figure(figsize=(10, 5))\n",
        "librosa.display.waveshow(data, sr=sampling_rate)"
      ],
      "metadata": {
        "colab": {
          "base_uri": "https://localhost:8080/",
          "height": 482
        },
        "id": "ggkPaHJUnF_x",
        "outputId": "76eaaedf-c5ec-4c7a-93a2-83bfc83aea8e"
      },
      "execution_count": null,
      "outputs": [
        {
          "output_type": "execute_result",
          "data": {
            "text/plain": [
              "<librosa.display.AdaptiveWaveplot at 0x7fa41cafdd80>"
            ]
          },
          "metadata": {},
          "execution_count": 18
        },
        {
          "output_type": "display_data",
          "data": {
            "text/plain": [
              "<Figure size 1000x500 with 1 Axes>"
            ],
            "image/png": "[encoded data removed]"
          },
          "metadata": {}
        }
      ]
    },
    {
      "cell_type": "code",
      "source": [
        "dataset_path = \"/content/drive/My Drive/RAVDESS/\"\n",
        "labels = []\n",
        "X = np.empty((0, 1 + 20 + 1 + 1 + 1 + 1))"
      ],
      "metadata": {
        "id": "Os_bxTjrqZ-J"
      },
      "execution_count": null,
      "outputs": []
    },
    {
      "cell_type": "markdown",
      "source": [
        "# Load all the files in"
      ],
      "metadata": {
        "id": "bryJHBsGpcNz"
      }
    },
    {
      "cell_type": "code",
      "source": [
        "start_time = time.time()\n",
        "\n",
        "for file in os.listdir(dataset_path):\n",
        "    if file.endswith('.wav'):\n",
        "        file_info = file.split(\"-\")\n",
        "        modality = file_info[0]\n",
        "        vocal_channel = file_info[1]\n",
        "        emotion = file_info[2]\n",
        "        emotional_intensity = file_info[3]\n",
        "        statement = file_info[4]\n",
        "        repetition = file_info[5]\n",
        "        actor = file_info[6].split(\".\")[0]\n",
        "        audio_file = os.path.join(dataset_path, file)\n",
        "        y, sr = librosa.load(audio_file, sr=None)\n",
        "        chroma_stft = librosa.feature.chroma_stft(y = y, sr = sr).mean()\n",
        "        mfcc = librosa.feature.mfcc(y = y, sr = sr).mean(axis = 1)\n",
        "        spectral_centroid = librosa.feature.spectral_centroid(y = y, sr = sr).mean()\n",
        "        spectral_bandwidth = librosa.feature.spectral_bandwidth(y = y, sr = sr).mean()\n",
        "        rolloff = librosa.feature.spectral_rolloff(y = y, sr = sr).mean()\n",
        "        zero_crossing_rate = librosa.feature.zero_crossing_rate(y = y).mean()\n",
        "        features_array = np.array([chroma_stft, *mfcc, spectral_centroid, spectral_bandwidth, rolloff, zero_crossing_rate])\n",
        "        X = np.vstack((X, features_array))\n",
        "        labels.append({'modality': modality,\n",
        "                       'vocal_channel': vocal_channel,\n",
        "                       'emotion': emotion,\n",
        "                       'emotional_intensity': emotional_intensity,\n",
        "                       'statement': statement,\n",
        "                       'repetition': repetition,\n",
        "                       'actor': actor})\n",
        "\n",
        "np.save('features.npy', X)\n",
        "labels_df = pd.DataFrame(labels)\n",
        "labels_df.to_csv('labels.csv', index=False)\n",
        "\n",
        "print(\"Data loaded in %s seconds\" % (time.time() - start_time))"
      ],
      "metadata": {
        "colab": {
          "base_uri": "https://localhost:8080/"
        },
        "id": "0hLweEH4qtpv",
        "outputId": "a8d183ad-6309-4bc5-a3bb-446ce9a922ae"
      },
      "execution_count": null,
      "outputs": [
        {
          "output_type": "stream",
          "name": "stdout",
          "text": [
            "--- Data loaded. Loading time: 348.4784393310547 seconds ---\n"
          ]
        }
      ]
    },
    {
      "cell_type": "code",
      "source": [
        "X = np.load('features.npy')\n",
        "y = pd.read_csv('labels.csv')\n",
        "\n",
        "# Split the data into training and testing sets\n",
        "X_train, X_test, y_train, y_test = train_test_split(X, y['emotion'], test_size=0.2, random_state=42)\n",
        "\n",
        "scaler = StandardScaler()\n",
        "X_train = scaler.fit_transform(X_train)\n",
        "X_test = scaler.transform(X_test)\n",
        "\n",
        "label_encoder = LabelEncoder()\n",
        "y_train = label_encoder.fit_transform(y_train)\n",
        "y_test = label_encoder.transform(y_test)"
      ],
      "metadata": {
        "id": "tM6RuwvctGL6"
      },
      "execution_count": null,
      "outputs": []
    },
    {
      "cell_type": "code",
      "source": [
        "# Scale the features\n",
        "start_time = time.time()\n",
        "\n",
        "svc = SVC()\n",
        "svc = SVC(kernel='rbf', C=10, gamma='scale')\n",
        "svc.fit(X_train, y_train)\n",
        "print(\"%s seconds taken to prepare model\\n\" % (time.time() - start_time))\n",
        "\n",
        "y_pred = svc.predict(X_test)\n",
        "\n",
        "confusion = confusion_matrix(y_test, y_pred)\n",
        "\n",
        "accuracy = accuracy_score(y_test, y_pred)\n",
        "confusion_mat = confusion_matrix(y_test, y_pred)\n",
        "classification_rep = classification_report(y_test, y_pred)\n",
        "\n",
        "\n",
        "print(\"Accuracy: %s%%\" % (accuracy*100))\n",
        "print(\"Classification Report: \\n\", classification_rep)\n",
        "\n",
        "plt.figure(figsize=(10, 7))\n",
        "sns.heatmap(confusion, annot=True, cmap='Blues', fmt='g')\n",
        "plt.xlabel('Predicted')\n",
        "plt.ylabel('Actual')\n",
        "plt.title('Confusion matrix of the classifier')\n",
        "plt.show()"
      ],
      "metadata": {
        "colab": {
          "base_uri": "https://localhost:8080/",
          "height": 971
        },
        "id": "nPy1wtkstOAc",
        "outputId": "8a4b02f4-7019-4402-b6a3-0d9be12ceef1"
      },
      "execution_count": null,
      "outputs": [
        {
          "output_type": "stream",
          "name": "stdout",
          "text": [
            "0.17119359970092773 seconds taken to prepare model\n",
            "\n",
            "Accuracy: 74.33808553971487%\n",
            "Classification Report: \n",
            "               precision    recall  f1-score   support\n",
            "\n",
            "           0       0.56      0.59      0.57        34\n",
            "           1       0.76      0.87      0.81        83\n",
            "           2       0.74      0.72      0.73        76\n",
            "           3       0.75      0.70      0.72        73\n",
            "           4       0.89      0.79      0.84        72\n",
            "           5       0.70      0.69      0.70        72\n",
            "           6       0.72      0.70      0.71        40\n",
            "           7       0.73      0.78      0.75        41\n",
            "\n",
            "    accuracy                           0.74       491\n",
            "   macro avg       0.73      0.73      0.73       491\n",
            "weighted avg       0.75      0.74      0.74       491\n",
            "\n"
          ]
        },
        {
          "output_type": "display_data",
          "data": {
            "text/plain": [
              "<Figure size 1000x700 with 2 Axes>"
            ],
            "image/png": "[encoded data removed]"
          },
          "metadata": {}
        }
      ]
    },
    {
      "cell_type": "code",
      "source": [
        "start_time = time.time()\n",
        "\n",
        "# Define the hyperparameter search space\n",
        "param_grid = {\n",
        "    'C': [0.1, 1, 10, 100],\n",
        "    'kernel': ['linear', 'rbf', 'poly'],\n",
        "    'degree': [2, 3, 4],\n",
        "    'gamma': ['scale', 'auto']\n",
        "}\n",
        "\n",
        "# Perform GridSearch for hyperparameter tuning\n",
        "grid_search = GridSearchCV(svc, param_grid, cv=5, n_jobs=-1, verbose=2)\n",
        "grid_search.fit(X_train, y_train)\n",
        "\n",
        "print(\"%s seconds taken to prepare model\\n\" % (time.time() - start_time))\n",
        "\n",
        "# Print the best parameters\n",
        "print(\"Best Parameters: \", grid_search.best_params_)\n",
        "\n",
        "# Evaluate the tuned model on the test set\n",
        "y_pred = grid_search.predict(X_test)\n",
        "accuracy = accuracy_score(y_test, y_pred)\n",
        "confusion_mat = confusion_matrix(y_test, y_pred)\n",
        "classification_rep = classification_report(y_test, y_pred)\n",
        "\n",
        "print(\"Accuracy: \", accuracy)\n",
        "print(\"Confusion Matrix: \\n\\n\", confusion_mat)\n",
        "print(\"Classification Report: \\n\", classification_rep)"
      ],
      "metadata": {
        "colab": {
          "base_uri": "https://localhost:8080/"
        },
        "id": "Mdm_nHDy0COK",
        "outputId": "d0a4a6df-9057-4568-e954-468624a9874a"
      },
      "execution_count": null,
      "outputs": [
        {
          "output_type": "stream",
          "name": "stdout",
          "text": [
            "Fitting 5 folds for each of 72 candidates, totalling 360 fits\n",
            "394.49080324172974 seconds taken to prepare model\n",
            "\n",
            "Best Parameters:  {'C': 100, 'degree': 2, 'gamma': 'scale', 'kernel': 'rbf'}\n",
            "Accuracy:  0.7494908350305499\n",
            "Confusion Matrix: \n",
            "\n",
            " [[25  4  3  1  0  0  0  1]\n",
            " [ 6 73  2  2  0  0  0  0]\n",
            " [ 3  2 57  5  2  4  1  2]\n",
            " [ 3  7  1 53  0  6  2  1]\n",
            " [ 0  2  4  0 56  4  2  4]\n",
            " [ 0  3  3 11  2 49  2  2]\n",
            " [ 2  2  2  2  1  2 27  2]\n",
            " [ 2  0  3  2  2  4  0 28]]\n",
            "Classification Report: \n",
            "               precision    recall  f1-score   support\n",
            "\n",
            "           0       0.61      0.74      0.67        34\n",
            "           1       0.78      0.88      0.83        83\n",
            "           2       0.76      0.75      0.75        76\n",
            "           3       0.70      0.73      0.71        73\n",
            "           4       0.89      0.78      0.83        72\n",
            "           5       0.71      0.68      0.70        72\n",
            "           6       0.79      0.68      0.73        40\n",
            "           7       0.70      0.68      0.69        41\n",
            "\n",
            "    accuracy                           0.75       491\n",
            "   macro avg       0.74      0.74      0.74       491\n",
            "weighted avg       0.75      0.75      0.75       491\n",
            "\n"
          ]
        }
      ]
    },
    {
      "cell_type": "code",
      "source": [
        "# Train an SVM classifier\n",
        "start_time = time.time()\n",
        "svm = SVC(kernel='rbf', C=10, gamma='scale')\n",
        "svm.fit(X_train, y_train)\n",
        "print(\"%s seconds taken to prepare model\\n\" % (time.time() - start_time))\n",
        "# Predict the labels for the test set\n",
        "y_pred = svm.predict(X_test)\n",
        "\n",
        "# Evaluate the performance of the classifier\n",
        "accuracy = accuracy_score(y_test, y_pred)\n",
        "confusion = confusion_matrix(y_test, y_pred)\n",
        "report = classification_report(y_test, y_pred)\n",
        "\n",
        "print('Accuracy:', accuracy)\n",
        "print('Confusion matrix:\\n', confusion)\n",
        "print('Classification report:\\n', report)"
      ],
      "metadata": {
        "colab": {
          "base_uri": "https://localhost:8080/"
        },
        "id": "pCOL7LRBvcG0",
        "outputId": "c905fb8c-2b41-465e-af70-3aa3e7dad060"
      },
      "execution_count": null,
      "outputs": [
        {
          "output_type": "stream",
          "name": "stdout",
          "text": [
            "0.1788642406463623 seconds taken to prepare model\n",
            "\n",
            "Accuracy: 0.7433808553971487\n",
            "Confusion matrix:\n",
            " [[20  8  3  1  0  0  1  1]\n",
            " [ 7 72  3  1  0  0  0  0]\n",
            " [ 2  2 55  5  2  6  2  2]\n",
            " [ 2  6  3 51  1  7  3  0]\n",
            " [ 0  2  4  0 57  5  2  2]\n",
            " [ 2  2  3  8  1 50  2  4]\n",
            " [ 2  2  1  1  2  1 28  3]\n",
            " [ 1  1  2  1  1  2  1 32]]\n",
            "Classification report:\n",
            "               precision    recall  f1-score   support\n",
            "\n",
            "           0       0.56      0.59      0.57        34\n",
            "           1       0.76      0.87      0.81        83\n",
            "           2       0.74      0.72      0.73        76\n",
            "           3       0.75      0.70      0.72        73\n",
            "           4       0.89      0.79      0.84        72\n",
            "           5       0.70      0.69      0.70        72\n",
            "           6       0.72      0.70      0.71        40\n",
            "           7       0.73      0.78      0.75        41\n",
            "\n",
            "    accuracy                           0.74       491\n",
            "   macro avg       0.73      0.73      0.73       491\n",
            "weighted avg       0.75      0.74      0.74       491\n",
            "\n"
          ]
        }
      ]
    }
  ]
}